{
 "cells": [
  {
   "cell_type": "markdown",
   "id": "03ba50ef-04a5-4edc-9ef8-747de437c608",
   "metadata": {},
   "source": [
    "# Lab Instructions\n",
    "\n",
    "Find a dataset that interests you. I'd recommend starting on [Kaggle](https://www.kaggle.com/). Read through all of the material about the dataset and download a .CSV file.\n",
    "\n",
    "1. Write a short summary of the data.  Where did it come from?  How was it collected?  What are the features in the data?  Why is this dataset interesting to you?  \n",
    "\n",
    "2. Identify 5 interesting questions about your data that you can answer using Pandas methods.  \n",
    "\n",
    "3. Answer those questions!  You may use any method you want (including LLMs) to help you write your code; however, you should use Pandas to find the answers.  LLMs will not always write code in this way without specific instruction.  \n",
    "\n",
    "4. Write the answer to your question in a text box underneath the code you used to calculate the answer.\n",
    "\n"
   ]
  },
  {
   "cell_type": "markdown",
   "id": "74da66be-dbfc-4140-93c4-b600e98f6df2",
   "metadata": {},
   "source": []
  },
  {
   "metadata": {},
   "cell_type": "markdown",
   "source": "The housing dataset comes from the California Census and contains information about housing districts in California. It was collected to analyze housing prices and the factors that influence them. The main features include median income, median house value, average house age, total rooms, total bedrooms, population, households, and proximity to the ocean. This dataset is interesting because it helps us understand how location, income, and demographics affect housing prices, which can be useful for real estate, economics, and urban planning.\n",
   "id": "6b98ff7cefba5b4"
  },
  {
   "metadata": {
    "ExecuteTime": {
     "end_time": "2025-09-08T18:59:49.365888Z",
     "start_time": "2025-09-08T18:59:48.821610Z"
    }
   },
   "cell_type": "code",
   "source": [
    "import pandas as pd\n",
    "\n",
    "# Load the housing dataset\n",
    "df = pd.read_csv(\"housing.csv\")\n",
    "\n",
    "# Show the first few rows\n",
    "df.head()\n"
   ],
   "id": "9d99b08bb2eef084",
   "outputs": [
    {
     "data": {
      "text/plain": [
       "   longitude  latitude  housing_median_age  total_rooms  total_bedrooms  \\\n",
       "0    -122.23     37.88                41.0        880.0           129.0   \n",
       "1    -122.22     37.86                21.0       7099.0          1106.0   \n",
       "2    -122.24     37.85                52.0       1467.0           190.0   \n",
       "3    -122.25     37.85                52.0       1274.0           235.0   \n",
       "4    -122.25     37.85                52.0       1627.0           280.0   \n",
       "\n",
       "   population  households  median_income  median_house_value ocean_proximity  \n",
       "0       322.0       126.0         8.3252            452600.0        NEAR BAY  \n",
       "1      2401.0      1138.0         8.3014            358500.0        NEAR BAY  \n",
       "2       496.0       177.0         7.2574            352100.0        NEAR BAY  \n",
       "3       558.0       219.0         5.6431            341300.0        NEAR BAY  \n",
       "4       565.0       259.0         3.8462            342200.0        NEAR BAY  "
      ],
      "text/html": [
       "<div>\n",
       "<style scoped>\n",
       "    .dataframe tbody tr th:only-of-type {\n",
       "        vertical-align: middle;\n",
       "    }\n",
       "\n",
       "    .dataframe tbody tr th {\n",
       "        vertical-align: top;\n",
       "    }\n",
       "\n",
       "    .dataframe thead th {\n",
       "        text-align: right;\n",
       "    }\n",
       "</style>\n",
       "<table border=\"1\" class=\"dataframe\">\n",
       "  <thead>\n",
       "    <tr style=\"text-align: right;\">\n",
       "      <th></th>\n",
       "      <th>longitude</th>\n",
       "      <th>latitude</th>\n",
       "      <th>housing_median_age</th>\n",
       "      <th>total_rooms</th>\n",
       "      <th>total_bedrooms</th>\n",
       "      <th>population</th>\n",
       "      <th>households</th>\n",
       "      <th>median_income</th>\n",
       "      <th>median_house_value</th>\n",
       "      <th>ocean_proximity</th>\n",
       "    </tr>\n",
       "  </thead>\n",
       "  <tbody>\n",
       "    <tr>\n",
       "      <th>0</th>\n",
       "      <td>-122.23</td>\n",
       "      <td>37.88</td>\n",
       "      <td>41.0</td>\n",
       "      <td>880.0</td>\n",
       "      <td>129.0</td>\n",
       "      <td>322.0</td>\n",
       "      <td>126.0</td>\n",
       "      <td>8.3252</td>\n",
       "      <td>452600.0</td>\n",
       "      <td>NEAR BAY</td>\n",
       "    </tr>\n",
       "    <tr>\n",
       "      <th>1</th>\n",
       "      <td>-122.22</td>\n",
       "      <td>37.86</td>\n",
       "      <td>21.0</td>\n",
       "      <td>7099.0</td>\n",
       "      <td>1106.0</td>\n",
       "      <td>2401.0</td>\n",
       "      <td>1138.0</td>\n",
       "      <td>8.3014</td>\n",
       "      <td>358500.0</td>\n",
       "      <td>NEAR BAY</td>\n",
       "    </tr>\n",
       "    <tr>\n",
       "      <th>2</th>\n",
       "      <td>-122.24</td>\n",
       "      <td>37.85</td>\n",
       "      <td>52.0</td>\n",
       "      <td>1467.0</td>\n",
       "      <td>190.0</td>\n",
       "      <td>496.0</td>\n",
       "      <td>177.0</td>\n",
       "      <td>7.2574</td>\n",
       "      <td>352100.0</td>\n",
       "      <td>NEAR BAY</td>\n",
       "    </tr>\n",
       "    <tr>\n",
       "      <th>3</th>\n",
       "      <td>-122.25</td>\n",
       "      <td>37.85</td>\n",
       "      <td>52.0</td>\n",
       "      <td>1274.0</td>\n",
       "      <td>235.0</td>\n",
       "      <td>558.0</td>\n",
       "      <td>219.0</td>\n",
       "      <td>5.6431</td>\n",
       "      <td>341300.0</td>\n",
       "      <td>NEAR BAY</td>\n",
       "    </tr>\n",
       "    <tr>\n",
       "      <th>4</th>\n",
       "      <td>-122.25</td>\n",
       "      <td>37.85</td>\n",
       "      <td>52.0</td>\n",
       "      <td>1627.0</td>\n",
       "      <td>280.0</td>\n",
       "      <td>565.0</td>\n",
       "      <td>259.0</td>\n",
       "      <td>3.8462</td>\n",
       "      <td>342200.0</td>\n",
       "      <td>NEAR BAY</td>\n",
       "    </tr>\n",
       "  </tbody>\n",
       "</table>\n",
       "</div>"
      ]
     },
     "execution_count": 1,
     "metadata": {},
     "output_type": "execute_result"
    }
   ],
   "execution_count": 1
  },
  {
   "metadata": {},
   "cell_type": "markdown",
   "source": "",
   "id": "eaf1257958dfb70a"
  },
  {
   "metadata": {},
   "cell_type": "markdown",
   "source": "What is the average median house value?",
   "id": "8fe9bf0d15721046"
  },
  {
   "metadata": {
    "ExecuteTime": {
     "end_time": "2025-09-08T19:01:15.294792Z",
     "start_time": "2025-09-08T19:01:15.254665Z"
    }
   },
   "cell_type": "code",
   "source": [
    "# 1. Average median house value\n",
    "avg_house_value = df[\"median_house_value\"].mean()\n",
    "avg_house_value\n"
   ],
   "id": "c2807d7710766c4",
   "outputs": [
    {
     "data": {
      "text/plain": [
       "np.float64(206855.81690891474)"
      ]
     },
     "execution_count": 2,
     "metadata": {},
     "output_type": "execute_result"
    }
   ],
   "execution_count": 2
  },
  {
   "metadata": {},
   "cell_type": "markdown",
   "source": "The average median house value in the dataset is about **$206,855**. This shows the typical price of a home across California during the time the data was collected.\n",
   "id": "bf76a4e7228e8b9b"
  },
  {
   "metadata": {},
   "cell_type": "markdown",
   "source": "Which areas (by ocean proximity) have the highest average house values?",
   "id": "19c65adf87b1a729"
  },
  {
   "metadata": {},
   "cell_type": "code",
   "outputs": [],
   "execution_count": null,
   "source": "",
   "id": "b35825e45c0d9a20"
  },
  {
   "metadata": {
    "ExecuteTime": {
     "end_time": "2025-09-08T19:03:20.294303Z",
     "start_time": "2025-09-08T19:03:20.249773Z"
    }
   },
   "cell_type": "code",
   "source": [
    "# 2. Average house value by ocean proximity\n",
    "avg_by_ocean = df.groupby(\"ocean_proximity\")[\"median_house_value\"].mean()\n",
    "avg_by_ocean\n"
   ],
   "id": "655dc359cfa9fb4f",
   "outputs": [
    {
     "data": {
      "text/plain": [
       "ocean_proximity\n",
       "<1H OCEAN     240084.285464\n",
       "INLAND        124805.392001\n",
       "ISLAND        380440.000000\n",
       "NEAR BAY      259212.311790\n",
       "NEAR OCEAN    249433.977427\n",
       "Name: median_house_value, dtype: float64"
      ]
     },
     "execution_count": 4,
     "metadata": {},
     "output_type": "execute_result"
    }
   ],
   "execution_count": 4
  },
  {
   "metadata": {},
   "cell_type": "markdown",
   "source": "When grouped by ocean proximity, houses near the **ocean** or in **<1H OCEAN** areas tend to have higher average values. Inland homes generally have lower values, showing that location near the coast increases housing prices.\n",
   "id": "f75d188a4a8e736"
  },
  {
   "metadata": {},
   "cell_type": "code",
   "outputs": [],
   "execution_count": null,
   "source": "",
   "id": "7b00a2edc22d5cc5"
  },
  {
   "metadata": {},
   "cell_type": "markdown",
   "source": "Is there a correlation between median income and house value?",
   "id": "58a653d6afc69a91"
  },
  {
   "metadata": {
    "ExecuteTime": {
     "end_time": "2025-09-08T19:03:45.570278Z",
     "start_time": "2025-09-08T19:03:45.545465Z"
    }
   },
   "cell_type": "code",
   "source": [
    "# 3. Correlation between income and house value\n",
    "correlation = df[\"median_income\"].corr(df[\"median_house_value\"])\n",
    "correlation\n"
   ],
   "id": "23b2858106e3fb1",
   "outputs": [
    {
     "data": {
      "text/plain": [
       "np.float64(0.6880752079585484)"
      ]
     },
     "execution_count": 5,
     "metadata": {},
     "output_type": "execute_result"
    }
   ],
   "execution_count": 5
  },
  {
   "metadata": {},
   "cell_type": "markdown",
   "source": "There is a positive correlation (around **0.68**) between median income and median house value. This means that areas with higher household incomes usually have higher home prices, which makes sense economically.\n",
   "id": "799eec719718618e"
  },
  {
   "metadata": {},
   "cell_type": "markdown",
   "source": "What is the average house age in the dataset?",
   "id": "20d41bd4d2b7144a"
  },
  {
   "metadata": {
    "ExecuteTime": {
     "end_time": "2025-09-08T19:04:09.519425Z",
     "start_time": "2025-09-08T19:04:09.511730Z"
    }
   },
   "cell_type": "code",
   "source": [
    "# 4. Average house age\n",
    "avg_house_age = df[\"housing_median_age\"].mean()\n",
    "avg_house_age\n"
   ],
   "id": "eec43d8f5db977ae",
   "outputs": [
    {
     "data": {
      "text/plain": [
       "np.float64(28.639486434108527)"
      ]
     },
     "execution_count": 6,
     "metadata": {},
     "output_type": "execute_result"
    }
   ],
   "execution_count": 6
  },
  {
   "metadata": {},
   "cell_type": "markdown",
   "source": "The average house age in the dataset is about **28 years**. This shows that most homes in the dataset are not brand new, but also not extremely old — they tend to be middle-aged properties.\n",
   "id": "c45a1ed96443e600"
  },
  {
   "metadata": {},
   "cell_type": "markdown",
   "source": "Which region (latitude/longitude) has the highest concentration of households?",
   "id": "606e279e35ff69d2"
  },
  {
   "metadata": {
    "ExecuteTime": {
     "end_time": "2025-09-08T19:04:38.775560Z",
     "start_time": "2025-09-08T19:04:38.721700Z"
    }
   },
   "cell_type": "code",
   "source": [
    "# 5. Region with the highest households\n",
    "top_household_area = df.groupby([\"longitude\", \"latitude\"])[\"households\"].sum().idxmax()\n",
    "top_household_area\n"
   ],
   "id": "e61fb12dc24e7e7a",
   "outputs": [
    {
     "data": {
      "text/plain": [
       "(np.float64(-122.41), np.float64(37.79))"
      ]
     },
     "execution_count": 7,
     "metadata": {},
     "output_type": "execute_result"
    }
   ],
   "execution_count": 7
  },
  {
   "metadata": {},
   "cell_type": "markdown",
   "source": "The region with the highest concentration of households is located at a specific **longitude and latitude** in the dataset. This indicates that certain urban areas (like major cities) hold much larger populations compared to rural or coastal areas.\n",
   "id": "102f0ca2da759d0a"
  },
  {
   "metadata": {},
   "cell_type": "code",
   "outputs": [],
   "execution_count": null,
   "source": "",
   "id": "db5d03161b919d1b"
  }
 ],
 "metadata": {
  "kernelspec": {
   "display_name": "Python 3 (ipykernel)",
   "language": "python",
   "name": "python3"
  },
  "language_info": {
   "codemirror_mode": {
    "name": "ipython",
    "version": 3
   },
   "file_extension": ".py",
   "mimetype": "text/x-python",
   "name": "python",
   "nbconvert_exporter": "python",
   "pygments_lexer": "ipython3",
   "version": "3.11.4"
  }
 },
 "nbformat": 4,
 "nbformat_minor": 5
}
